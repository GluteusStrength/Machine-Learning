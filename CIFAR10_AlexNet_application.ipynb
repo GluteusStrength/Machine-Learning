{
  "nbformat": 4,
  "nbformat_minor": 0,
  "metadata": {
    "colab": {
      "provenance": [],
      "authorship_tag": "ABX9TyOkYikX7PvywjKquNapqXzG",
      "include_colab_link": true
    },
    "kernelspec": {
      "name": "python3",
      "display_name": "Python 3"
    },
    "language_info": {
      "name": "python"
    },
    "accelerator": "GPU",
    "gpuClass": "standard"
  },
  "cells": [
    {
      "cell_type": "markdown",
      "metadata": {
        "id": "view-in-github",
        "colab_type": "text"
      },
      "source": [
        "<a href=\"https://colab.research.google.com/github/GluteusStrength/Machine-Learning-contents/blob/main/AlexNet.ipynb\" target=\"_parent\"><img src=\"https://colab.research.google.com/assets/colab-badge.svg\" alt=\"Open In Colab\"/></a>"
      ]
    },
    {
      "cell_type": "code",
      "execution_count": 1,
      "metadata": {
        "id": "DB65szlWFisv"
      },
      "outputs": [],
      "source": [
        "# 필요한 module import\n",
        "import torch\n",
        "import torchvision\n",
        "import torchvision.transforms as transforms\n",
        "from torch.utils.data import DataLoader\n",
        "import torch.nn as nn\n",
        "import torch.nn.functional as F\n",
        "import torch.optim as optim\n",
        "import matplotlib.pyplot as plt"
      ]
    },
    {
      "cell_type": "code",
      "source": [
        "transform = transforms.Compose([transforms.ToTensor(), transforms.Normalize((0.5, 0.5, 0.5), (0.5, 0.5, 0.5))]) # 이미지 표준화\n",
        "trainset = torchvision.datasets.CIFAR10(root = \"./data\", train = True, download = True, transform = transform) # CIFAR10 데이터 셋 업로드\n",
        "trainloader = torch.utils.data.DataLoader(trainset, batch_size = 32, shuffle = True) # batch_size = 32\n",
        "\n",
        "testset = torchvision.datasets.CIFAR10(root = \"./data\", train = False, download = True, transform = transform)\n",
        "testloader = torch.utils.data.DataLoader(testset, batch_size = 32, shuffle = False)"
      ],
      "metadata": {
        "colab": {
          "base_uri": "https://localhost:8080/"
        },
        "id": "sdvyu7QfF1aB",
        "outputId": "5a7ba066-daed-45b4-c96d-5889ad63191a"
      },
      "execution_count": 2,
      "outputs": [
        {
          "output_type": "stream",
          "name": "stdout",
          "text": [
            "Files already downloaded and verified\n",
            "Files already downloaded and verified\n"
          ]
        }
      ]
    },
    {
      "cell_type": "code",
      "source": [
        "# gpu check\n",
        "device = torch.device(\"cuda:0\" if torch.cuda.is_available() else \"cpu\")\n",
        "print(f'{device} is available')"
      ],
      "metadata": {
        "colab": {
          "base_uri": "https://localhost:8080/"
        },
        "id": "O4cA0g0CG8FE",
        "outputId": "4862bea3-b46e-433f-98ae-31c29ac41d49"
      },
      "execution_count": 3,
      "outputs": [
        {
          "output_type": "stream",
          "name": "stdout",
          "text": [
            "cuda:0 is available\n"
          ]
        }
      ]
    },
    {
      "cell_type": "code",
      "source": [
        "class Model(nn.Module):\n",
        "  def __init__(self):\n",
        "    super(Model, self).__init__() # 필수적으로 적어줘야 한다.\n",
        "    self.conv = nn.Sequential(\n",
        "        nn.Conv2d(3, 64, 3), # Conv2d의 parameter: in_channels, out_channels, kernel_size 순서\n",
        "        nn.ReLU(), # activation function\n",
        "        nn.MaxPool2d(2, 2), # pooling layer\n",
        "        nn.Conv2d(64, 128, 3, padding = 1),\n",
        "        nn.ReLU(),\n",
        "        nn.MaxPool2d(2, 2),\n",
        "        nn.Conv2d(128, 256, 3, padding = 1),\n",
        "        nn.ReLU(),\n",
        "        nn.Conv2d(256, 512, 3, padding = 1),\n",
        "        nn.ReLU(),\n",
        "        nn.Conv2d(512, 224, 1),\n",
        "        nn.ReLU(),\n",
        "        nn.MaxPool2d(2, 2)\n",
        "    )\n",
        "    self.fc = nn.Sequential(\n",
        "        # dropout: 과적합 방지용\n",
        "        nn.Dropout(0.5),\n",
        "        # conv, pooling 과정을 거치면 28*28*3 -> 3*3*224\n",
        "        nn.Linear(224*3*3, 1024),\n",
        "        nn.ReLU(),\n",
        "        nn.Dropout(0.5),\n",
        "        nn.Linear(1024, 512),\n",
        "        nn.ReLU(),\n",
        "        nn.Linear(512, 10)\n",
        "    )\n",
        "  def forward(self, x):\n",
        "    x = self.conv(x)\n",
        "    x = x.view(-1, 224*3*3) # flatten을 시켜준다.\n",
        "    x = self.fc(x)\n",
        "    return x"
      ],
      "metadata": {
        "id": "Gux8NaqEHJb2"
      },
      "execution_count": 4,
      "outputs": []
    },
    {
      "cell_type": "code",
      "source": [
        "# classification -> loss_function은 CrossEntropyLoss\n",
        "criterion = nn.CrossEntropyLoss()\n",
        "model = Model().to(device)\n",
        "optimizer = optim.Adam(model.parameters(), lr = 1e-3)"
      ],
      "metadata": {
        "id": "M3iSI6tNIdOs"
      },
      "execution_count": 5,
      "outputs": []
    },
    {
      "cell_type": "code",
      "source": [
        "loss_ = []\n",
        "n = len(trainloader)\n",
        "for epoch in range(50):\n",
        "  running_loss = 0.0\n",
        "  for data in trainloader:\n",
        "    i, l = data[0].to(device), data[1].to(device)\n",
        "    optimizer.zero_grad()\n",
        "    outputs = model(i)\n",
        "    loss = criterion(outputs, l)\n",
        "    loss.backward()\n",
        "    optimizer.step()\n",
        "    running_loss += loss.item()\n",
        "  loss_.append(running_loss / n)\n",
        "  print(\"loss: {} epoch, {}\".format(epoch, running_loss / len(trainloader)))"
      ],
      "metadata": {
        "colab": {
          "base_uri": "https://localhost:8080/"
        },
        "id": "7upnRWTvIr3g",
        "outputId": "f2a6f68f-72c9-4556-dbfc-8fd00a94961a"
      },
      "execution_count": 6,
      "outputs": [
        {
          "output_type": "stream",
          "name": "stdout",
          "text": [
            "loss: 0 epoch, 1.5984628505227814\n",
            "loss: 1 epoch, 1.1998554632134417\n",
            "loss: 2 epoch, 1.0283143056827102\n",
            "loss: 3 epoch, 0.9153092830743991\n",
            "loss: 4 epoch, 0.8396722368910308\n",
            "loss: 5 epoch, 0.7769097934452601\n",
            "loss: 6 epoch, 0.7114609482764283\n",
            "loss: 7 epoch, 0.6753503278288716\n",
            "loss: 8 epoch, 0.6455940920919161\n",
            "loss: 9 epoch, 0.6063518626085094\n",
            "loss: 10 epoch, 0.5761561608198204\n",
            "loss: 11 epoch, 0.5510460544456218\n",
            "loss: 12 epoch, 0.5292450499769136\n",
            "loss: 13 epoch, 0.4994703571497441\n",
            "loss: 14 epoch, 0.4868534574724891\n",
            "loss: 15 epoch, 0.46157687860502317\n",
            "loss: 16 epoch, 0.4468715228640873\n",
            "loss: 17 epoch, 0.440945215118061\n",
            "loss: 18 epoch, 0.41803304766205285\n",
            "loss: 19 epoch, 0.4097205539182143\n",
            "loss: 20 epoch, 0.3851438368183828\n",
            "loss: 21 epoch, 0.3746638998641887\n",
            "loss: 22 epoch, 0.3670673060945342\n",
            "loss: 23 epoch, 0.33935630594642974\n",
            "loss: 24 epoch, 0.35416851360267426\n",
            "loss: 25 epoch, 0.328236245398272\n",
            "loss: 26 epoch, 0.32864613348995925\n",
            "loss: 27 epoch, 0.3306921989783902\n",
            "loss: 28 epoch, 0.3000922509166993\n",
            "loss: 29 epoch, 0.2978183580401591\n",
            "loss: 30 epoch, 0.31348944369999077\n",
            "loss: 31 epoch, 0.27737031277222646\n",
            "loss: 32 epoch, 0.283699805647795\n",
            "loss: 33 epoch, 0.2908101817056708\n",
            "loss: 34 epoch, 0.26955681916097474\n",
            "loss: 35 epoch, 0.2664004919099516\n",
            "loss: 36 epoch, 0.2676994988095356\n",
            "loss: 37 epoch, 0.28515572052077176\n",
            "loss: 38 epoch, 0.2452402667488643\n",
            "loss: 39 epoch, 0.26087416953664044\n",
            "loss: 40 epoch, 0.24477612705688545\n",
            "loss: 41 epoch, 0.2647835280721196\n",
            "loss: 42 epoch, 0.24177357962418178\n",
            "loss: 43 epoch, 0.24799914995100533\n",
            "loss: 44 epoch, 0.24391819954172292\n",
            "loss: 45 epoch, 0.28283363810167794\n",
            "loss: 46 epoch, 0.23906236330210515\n",
            "loss: 47 epoch, 0.2684101287552775\n",
            "loss: 48 epoch, 0.2507881863237557\n",
            "loss: 49 epoch, 0.23357785197888917\n"
          ]
        }
      ]
    },
    {
      "cell_type": "code",
      "source": [
        "# visualization\n",
        "plt.plot(loss_)\n",
        "plt.title(\"train loss\")\n",
        "plt.xlabel(\"epoch\")\n",
        "plt.ylabel(\"loss\")\n",
        "plt.show()"
      ],
      "metadata": {
        "id": "-BZCHANpJZJF",
        "colab": {
          "base_uri": "https://localhost:8080/",
          "height": 295
        },
        "outputId": "8bc2feda-d207-45a3-c985-93bd0d234aae"
      },
      "execution_count": 7,
      "outputs": [
        {
          "output_type": "display_data",
          "data": {
            "text/plain": [
              "<Figure size 432x288 with 1 Axes>"
            ],
            "image/png": "[encoded data removed]"
          },
          "metadata": {
            "needs_background": "light"
          }
        }
      ]
    },
    {
      "cell_type": "code",
      "source": [
        "# assessment\n",
        "cor = 0\n",
        "total = 0\n",
        "with torch.no_grad(): # requries_grad 비활성화\n",
        "  model.eval() # evaluation시에는 정규화과정 x. 이를 통해 선언한다\n",
        "  for data in testloader:\n",
        "    d, l = data[0].to(device), data[1].to(device)\n",
        "    output = model(d) # batch_size * 10의 matrix\n",
        "    # torch.max(x, 1): x를 열을 기준으로 최댓값, 최댓값의 index가 나오게 된다\n",
        "    _, pred = torch.max(output, 1) # 최댓값 자체는 필요없으므로 _로 따로 저장 x\n",
        "    total += l.size(0) # 총 개수\n",
        "    cor += (pred == l).sum().item() # 누적: 맞으면 1, 틀리면 0\n",
        "print(\"test acc: {}%\".format((cor/total)*100))"
      ],
      "metadata": {
        "colab": {
          "base_uri": "https://localhost:8080/"
        },
        "id": "QEvaDH1yoDup",
        "outputId": "c5c31aef-2ee4-45c5-d99c-c2496517a11d"
      },
      "execution_count": 12,
      "outputs": [
        {
          "output_type": "stream",
          "name": "stdout",
          "text": [
            "test acc: 74.98%\n"
          ]
        }
      ]
    },
    {
      "cell_type": "code",
      "source": [],
      "metadata": {
        "id": "lDgBdq8WqJEN"
      },
      "execution_count": null,
      "outputs": []
    }
  ]
}
